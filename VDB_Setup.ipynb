{
 "cells": [
  {
   "cell_type": "code",
   "execution_count": 1,
   "id": "2d3c036b-0cff-4fa6-b42e-5619429df7b6",
   "metadata": {},
   "outputs": [],
   "source": [
    "import chromadb\n",
    "\n",
    "# Creating Vector Database\n",
    "client = chromadb.PersistentClient()"
   ]
  },
  {
   "cell_type": "code",
   "execution_count": 2,
   "id": "13d874dd-23e7-4766-99a9-899bca877a45",
   "metadata": {},
   "outputs": [],
   "source": [
    "collection = client.get_or_create_collection(name=\"vdb_collection\", metadata={\"hnsw:space\": \"cosine\"})"
   ]
  },
  {
   "cell_type": "code",
   "execution_count": 5,
   "id": "430078d0-7ec1-4a78-9f9b-569e4a3b2c8b",
   "metadata": {},
   "outputs": [],
   "source": [
    "from langchain_community.document_loaders import PyMuPDFLoader\n",
    "from langchain_text_splitters import RecursiveCharacterTextSplitter\n",
    "\n",
    "# Loading and Chunking\n",
    "loader = PyMuPDFLoader(\"./zfc_guide.pdf\")\n",
    "pages = loader.load()\n",
    "\n",
    "document = \"\"\n",
    "for i in range(len(pages)):\n",
    "    document += pages[i].page_content\n",
    "\n",
    "text_splitter = RecursiveCharacterTextSplitter.from_tiktoken_encoder(\n",
    "    model_name=\"gpt-4\",\n",
    "    chunk_size=800,\n",
    "    chunk_overlap=400,\n",
    ")\n",
    "\n",
    "chunks = text_splitter.split_text(document)"
   ]
  },
  {
   "cell_type": "code",
   "execution_count": 8,
   "id": "ce459ee9-69a9-4387-bb1b-d101916390f7",
   "metadata": {},
   "outputs": [],
   "source": [
    "# Insert Chunks into ChromaDB Collection\n",
    "i = 0\n",
    "for chunk in chunks:\n",
    "    collection.add(\n",
    "    documents=[chunk],\n",
    "    ids=[f\"chunk_{i}\"]\n",
    "    )\n",
    "    i += 1"
   ]
  },
  {
   "cell_type": "code",
   "execution_count": 3,
   "id": "5f958037-4293-4f09-9231-24da27a49956",
   "metadata": {},
   "outputs": [],
   "source": [
    "from fastapi import FastAPI\n",
    "from pydantic import BaseModel\n",
    "from fastapi.middleware.cors import CORSMiddleware\n",
    "\n",
    "app = FastAPI()\n",
    "\n",
    "app.add_middleware(\n",
    "    CORSMiddleware,\n",
    "    allow_origins=[\"*\"],  # Adjust to restrict origins if needed\n",
    "    allow_credentials=True,\n",
    "    allow_methods=[\"*\"],\n",
    "    allow_headers=[\"*\"],\n",
    ")\n",
    "\n",
    "# Define a request model\n",
    "class QueryRequest(BaseModel):\n",
    "    query: str\n",
    "\n",
    "# Define the query endpoint\n",
    "@app.post(\"/query\")\n",
    "async def query_chroma(request: QueryRequest):\n",
    "    # Perform the query on your ChromaDB collection\n",
    "    results = collection.query(query_texts=[request.query], n_results=3)\n",
    "    return {\"results\": results['documents'][0]}"
   ]
  },
  {
   "cell_type": "code",
   "execution_count": 4,
   "id": "582c4a6f-77bc-447a-9e56-95c84033dd8d",
   "metadata": {},
   "outputs": [
    {
     "name": "stderr",
     "output_type": "stream",
     "text": [
      "INFO:     Started server process [58046]\n",
      "INFO:     Waiting for application startup.\n",
      "INFO:     Application startup complete.\n",
      "INFO:     Uvicorn running on http://0.0.0.0:8000 (Press CTRL+C to quit)\n"
     ]
    },
    {
     "name": "stdout",
     "output_type": "stream",
     "text": [
      "INFO:     127.0.0.1:53001 - \"OPTIONS /query HTTP/1.1\" 200 OK\n",
      "INFO:     127.0.0.1:53001 - \"POST /query HTTP/1.1\" 200 OK\n",
      "INFO:     127.0.0.1:53287 - \"POST /query HTTP/1.1\" 200 OK\n"
     ]
    }
   ],
   "source": [
    "import uvicorn\n",
    "import threading\n",
    "\n",
    "def run_api():\n",
    "    uvicorn.run(app, host=\"0.0.0.0\", port=8000)\n",
    "\n",
    "# Run the FastAPI app in a background thread\n",
    "thread = threading.Thread(target=run_api)\n",
    "thread.start()"
   ]
  },
  {
   "cell_type": "code",
   "execution_count": 5,
   "id": "c7612c46-eb84-46b2-afd8-8e69a9dff6e5",
   "metadata": {},
   "outputs": [
    {
     "name": "stdout",
     "output_type": "stream",
     "text": [
      "INFO:     127.0.0.1:52750 - \"POST /query HTTP/1.1\" 200 OK\n",
      "{'results': ['●\\nBS-1 Accessory Shoe Cover: A cover protecting the accessory shoe when no\\nflash unit is attached.\\nBody caps\\n●\\nBF-N1 Body Cap: The body cap prevents dust entering the camera when no\\nlens is in place.\\nViewfinder eyepiece accessories\\n●\\nDK-32 Rubber Eyecup: A rubber eyecup that can be fitted to the camera\\nviewfinder. The DK-29 makes the image in the viewfinder easier to see,\\npreventing eye fatigue.\\nRemove\\nReplace\\nOther compatible accessories\\n567\\nMount adapters\\n●\\nFTZ Mount Adapter: An adapter that allows NIKKOR F mount lenses to be\\nused with digital cameras that support interchangeable Z mount lenses.\\n･For information on attaching, removing, maintaining, and using FTZ mount\\nadapters, refer to the documentation supplied with the device.\\n*\\nIf a warning message prompting you to update is displayed on the\\ncamera when a mount adapter is mounted on the camera, update to the\\nlatest version. For information on firmware updates, see the Nikon\\nwebsite for your area.\\nMicrophones\\n●\\n･ME-1 Stereo Microphone: Connect the ME-1 to the camera microphone\\njack to record stereo sound. Using an external microphone also reduces the\\nchance of picking up equipment noise, such as the sounds produced\\nduring video recording when focus is achieved using autofocus.\\n･ME-W1 Wireless Microphone: A wireless Bluetooth microphone. Use the\\nME-W1 for off-camera recording.\\nRemote controls\\n●\\nML-L7 Remote Control: Pair it with the camera and shoot videos and photos\\nremotely.\\nD Attaching and removing the accessory shoe cover\\nThe cover slides into the shoe as shown. To remove the cover, hold the\\ncamera firmly, press the cover down with a thumb and slide it in the direction\\nshown.\\nOther compatible accessories\\n568\\nCharging the camera with the charging AC\\nadapter\\nWhen a battery is inserted in the camera, the optional EH-7P Charging\\nAC Adapter can be used to charge the battery.\\n･After confirming that the camera is off, connect the charging AC\\nadapter (q) and plug the adapter in. The battery charges while the\\ncamera is off. Keep the plug straight during insertion and removal.\\n- The camera charge lamp (w) lights amber while charging is in\\nprogress. The lamp turns off when charging is complete.\\n- A battery will fully charge in about 2 hours (when using the EN-\\nEL25a) or 1 hour and 40 minutes (when using the EN-EL25) (for an\\nexhausted battery).\\n- Unplug the charging AC adapter and remove the cable from the\\ncamera when charging is complete.\\nOther compatible accessories\\n569\\nD The charging AC adapter\\nIf the battery cannot be charged using the charging AC adapter, for example\\nbecause the battery is not compatible or the temperature of the camera is\\nelevated, the charge lamp will flash rapidly for about 30 seconds and then\\nturn off. If the charge lamp is off and you did not observe the battery\\ncharging, turn the camera on and check the battery level.\\nA Powering the camera with the charging AC adapter\\n･If [Enable] is selected for [USB power delivery] in the setup menu, the\\ncharging AC adapter will power the camera when the camera is turned\\non. For more information, see ““Power delivery” versus “charging”” (0419).\\n･The battery will not charge while the camera is powered by an outside\\nsource.\\nA Computer USB power delivery and battery charging\\n･Computers will supply current to power the camera or charge the battery\\nonly when connected via a UC-E25 USB cable (available separately). The', 'lenses and some F mount lenses.\\nD Deleting saved values\\nTo delete values saved using [Fine-tune and save lens], highlight the\\ndesired lens in the [List saved values] list and press O.\\nCreating and saving fine-tuning values\\n1 Attach the lens to the camera.\\n2 Select [AF fine-tuning options] in the setup menu, then\\nhighlight [Fine-tune and save lens] and press 2.\\nAn AF fine-tuning dialog will be displayed.\\nB The setup menu: Camera setup\\n402\\n3 Press 4 or 2 to fine-tune autofocus.\\n･Choose from values between +20 and −20.\\n･The current value is shown by g, the previously-selected value by\\nj.\\n･If a zoom lens is attached, you can choose separate fine-tuning\\nvalues for maximum angle (WIDE) and maximum zoom (TELE). Use\\n1 and 3 to choose between the two.\\n･The larger the fine-tuning value, the farther the focal point is from\\nthe lens; the smaller the value, the closer the focal point.\\n4 Press J to save the new value.\\nChoosing a default fine-tuning value\\n1 Select [AF fine-tuning options] in the setup menu, then\\nhighlight [Default] and press 2.\\n2 Press 4 or 2 to fine-tune autofocus.\\n･Choose from values between +20 and −20.\\n･The current value is shown by g, the previously-selected value by\\nj.\\n･The larger the fine-tuning value, the farther the focal point is from\\nthe lens; the smaller the value, the closer the focal point.\\n3 Press J to save the new value.\\nNon-CPU lens data\\nG button U B setup menu\\nRecord data for non-CPU lenses attached using an optional mount\\nadapter. By registering the focal length and maximum aperture of a non-\\nCPU lens in the camera, you can display this data as shooting data.\\nB The setup menu: Camera setup\\n403\\nOption\\nDescription\\n[Lens number]\\nChoose a lens identifier.\\n[Focal length (mm)]\\nEnter the focal length.\\n[Maximum aperture]\\nEnter the maximum aperture.\\nSave focus position\\nG button U B setup menu\\nIf set to [On], the focus position is saved at the same position as before\\nthe camera was turned off when you turn it off and then on again.\\n･The focus position may change depending on the zoom operation\\nand temperature changes.\\n･This function is enabled only when a Z mount lens with an autofocus\\nfunction is attached.\\n･If set to [On], it may take some time before you can operate the\\ncamera after turning it on.\\nImage Dust Off ref photo\\nG button U B setup menu\\nAcquire reference data for the Image Dust Off option in NX Studio.\\nImage Dust Off processes RAW images to mitigate effects caused by\\ndust adhering in front of the camera image sensor. For more\\ninformation, refer to NX Studio online help.\\nB The setup menu: Camera setup\\n404\\nAcquiring Image Dust Off reference data\\n1 Select [Start] on the Image Dust Off ref photo dialog.\\n･Highlight [Start] and press J to display the shooting screen.\\n2 With the lens about ten centimeters (four inches) from a well-lit,\\nfeatureless white object, frame the object so that it fills the\\ndisplay and then press the shutter-release button halfway.\\n･In autofocus mode, focus will automatically be set to infinity.\\n･In manual focus mode, set focus to infinity manually.\\n3 Press the shutter-release button the rest of the way down to\\nacquire Image Dust Off reference data.\\n･The monitor turns off when the shutter-release button is pressed.', '･Confirm that the camera is off before attaching the lens.\\n- Remove the camera body cap (q, w) and rear lens cap (e, r).\\n- Align the mounting marks on the camera (t) and lens (y). Do not\\ntouch the image sensor or lens contacts.\\nAttaching a lens\\n81\\n- Rotate the lens as shown until it clicks into place (u).\\n･Remove the front lens cap before taking pictures.\\nD F mount lenses\\n･Be sure to attach the FTZ mount adapter (available separately) before\\nusing F mount lenses.\\n･Attempting to attach F mount lenses directly to the camera could damage\\nthe lens or image sensor.\\nDetaching lenses\\n･After turning the camera off, press and hold the lens release button\\n(q) while turning the lens in the direction shown (w).\\n･After removing the lens, replace the lens caps and camera body cap.\\nOpening the monitor\\n82\\nOpening the monitor\\nSlowly rotate the monitor without using excessive force.\\nTurning on the camera\\n83\\nTurning on the camera\\nWhen the camera is turned on for the first time, the language selection\\nscreen is displayed. Choose a language and then set the camera clock\\n(no other operations can be performed until the clock is set).\\n1 Turn the camera on.\\n･The [Language] selection screen will be displayed.\\n2 Select a language.\\n･Press 1 or 3 to highlight the desired language and press J (the\\nlanguages available vary with the country or region in which the\\ncamera was originally purchased).\\n･The [Time zone] screen will be displayed.\\nTurning on the camera\\n84\\n3 Choose a time zone.\\n･Press 1 or 3 to choose a time zone and press J.\\n･The display shows the selected cities in the chosen zone and the\\ndifference between the time in the chosen zone and UTC.\\n･The [Date format] screen will be displayed.\\n4 Choose a date format.\\n･Highlight the desired date (year, month, and day) display order\\nand press J.\\n･The [Daylight saving time] screen will be displayed.\\nTurning on the camera\\n85\\n5 Turn daylight saving time on or off.\\n･Highlight [On] (daylight saving time on) or [Off] (daylight saving\\ntime off) and press J.\\n･Selecting [On] advances the clock one hour; to undo the effect,\\nselect [Off].\\n･The [Date and time] screen will be displayed.\\n6 Set the clock.\\n･Press 4 or 2 to highlight date and time items and press 1 or 3 to\\nchange them.\\n･Press J to confirm the date and time setting.\\n･The message [Done.] will be displayed and the camera switches to\\nshooting mode.\\nTurning on the camera\\n86\\nD The 1 icon\\nA flashing 1 icon in the shooting display indicates that the camera clock has\\nbeen reset. The date and time recorded with new photographs will not be\\ncorrect; use the [Time zone and date] > [Date and time] option in the setup\\nmenu to set the clock to the correct time and date. The camera clock is\\npowered by an independent clock battery. The clock battery charges when\\nthe main battery is inserted in the camera. It takes about 2 days to charge.\\nOnce charged, it will power the clock for about a month.\\nTaking photographs (b auto)\\n87\\nBasic photography and\\nplayback\\nTaking photographs (b auto)\\nSelect b (auto) mode for simple “point-and-shoot” photography.\\nD Lenses with retractable barrels\\nLenses with retractable barrels must be extended before use. Rotate the', 'Focal plane mark .............................................116\\nFocus indicator .................................................115\\nFocus lock ............................................................144\\nFocus mode ...................................102, 175, 184\\nFocus peaking ........................................117, 362\\nFocus point options .......................................352\\nFocus point wrap-around ..........................351\\n633\\nFocus points used ................................107, 347\\nFocus ring ............................................................ 115\\nFocus shift shooting ......................................321\\nFocus tracking with lock-on .....................347\\nFormat memory card ....................................394\\nFrame size/frame rate ........................177, 332\\nFraming grid display ......................................362\\nFrequency response ......................................340\\nFull-frame playback ........................................185\\nFull-time AF .........................................................103\\nFV lock ....................................................................507\\nH\\nHDMI ............................................................ 410, 496\\nHDR (high dynamic range) ....................... 291\\nHi (ISO) ...................................................................140\\nHigh ISO NR ............................................. 265, 336\\nHigh sensitivity (Hi) ........................................140\\nHighlight display ...................................190, 391\\nHighlight-weighted metering .................165\\nHistogram .......................................................62, 63\\nHue (Set Picture Control) ............................154\\nI\\nImage comment ..............................................406\\nImage Dust Off ref photo ...........................403\\nImage quality ..........................................162, 246\\nImage size .................................................163, 246\\nIncandescent (White balance) ................120\\nInformation display ........................................399\\nInfrastructure mode ............................460, 467\\nInterval timer shooting ................................298\\nIP address .............................................................471\\nISO sensitivity .....................................................139\\nISO sensitivity dial ...................................50, 139\\nISO sensitivity dial lock release ........50, 139\\nISO sensitivity settings .......................247, 333\\nL\\nLandscape (Set Picture Control) ............ 150\\nLanguage .............................................................395\\nLimit AF-area mode selection .................351\\nLimit monitor mode selection ................399\\nLocation data .....................................................198\\nLong exposure NR ..........................................264\\nLong time-exposures ................................... 136\\nLow-light AF .......................................................352\\nM\\nMAC address ......................................................415\\nMain command dial .........................................49\\nManage Picture Control ...................259, 335\\nManual (Shooting mode) ...........................133\\nManual focus ...........................................103, 114\\nManual focus ring in AF mode ...............354\\nMatrix metering ...............................................165\\nMaximum shots per burst .........................358\\nMemory buffer ..................................................171\\nMemory card ..................................................... 602\\nMemory card capacity .................................604\\nMetering ...............................................................164\\nMF (Manual focus) ..........................................103\\nMicrophone sensitivity ..................... 180, 339\\n634\\nMid-range sharpening (Set Picture\\nControl) ............................................................153\\nMode selector ........................................... 48, 129\\nMonitor .....................................................................51\\nMonitor brightness ........................................396\\nMonitor color balance ..................................396\\nMonochrome .....................................................442\\nMonochrome (Set Picture Control) ......150\\nMultiple exposure ...........................................283\\nMy Menu ..............................................................451\\nN\\nNatural light auto (White balance) .......119\\nNetwork settings ........................413, 461, 467\\nNeutral (Set Picture Control) ....................150\\nNon-CPU lens data .........................................402\\nO\\nOverlay pictures ...............................................443\\nOverview ..............................................................199\\nP\\nPairing (Bluetooth) ......................................... 410\\nPerspective control ........................................441\\nPhoto information ..........................................188\\nPhoto shooting menu ..................................239\\nPhoto/video selector ...............................87, 92\\nPicture review ....................................................236\\nPictures shot on selected dates .............215\\nPIN-entry WPS ...................................................468\\nPinpoint AF ......................................................... 105\\nPixel mapping ................................................... 405\\nPlayback display options ............................235\\nPlayback folder ..................................................235\\nPlayback menu .................................................234', 'Light focused by the lens could cause fire or damage to product’s internal\\nparts. When shooting backlit subjects, keep the sun well out of the frame.\\nSunlight focused into the camera when the sun is close to the frame could\\ncause fire.\\nTurn this product off when its use is prohibited. Disable wireless\\nfeatures when the use of wireless equipment is prohibited.\\nThe radio-frequency emissions produced by this product could interfere\\nwith equipment onboard aircraft or in hospitals or other medical facilities.\\nRemove the battery and disconnect the AC adapter if this product will\\nnot be used for an extended period.\\nFailure to observe this precaution could result in fire or product\\nmalfunction.\\nDo not fire the flash in contact with or in close proximity to the skin or\\nobjects.\\nFailure to observe this precaution could result in burns or fire.\\nDo not leave the product where it will be exposed to extremely high\\ntemperatures, for an extended period such as in an enclosed\\nautomobile or in direct sunlight.\\nFailure to observe this precaution could result in fire or product\\nmalfunction.\\nDo not look directly at the AF-assist illuminator.\\nFailure to observe this precaution could have adverse effects on vision.\\nFor your safety\\n32\\nDo not transport cameras or lenses with tripods or similar accessories\\nattached.\\nFailure to observe this precaution could result in injury or product\\nmalfunction.\\n DANGER (Batteries)\\nDo not mishandle batteries.\\nFailure to observe the following precautions could result in the batteries\\nleaking, overheating, rupturing, or catching fire:\\n･Use only rechargeable batteries approved for use in this product.\\n･Do not expose batteries to flame or excessive heat.\\n･Do not disassemble.\\n･Do not short-circuit the terminals by touching them to necklaces,\\nhairpins, or other metal objects.\\n･Do not expose batteries or the products in which they are inserted\\nto powerful physical shocks.\\n･Do not step on batteries, pierce them with nails, or strike them with\\nhammers.\\nCharge only as indicated.\\nFailure to observe this precaution could result in the batteries leaking,\\noverheating, rupturing, or catching fire.\\nIf battery liquid comes into contact with the eyes, rinse with plenty of\\nclean water and seek immediate medical attention.\\nDelaying action could result in eye injuries.\\nFollow the instructions of airline personnel.\\nBatteries left unattended at high altitudes in an unpressurized\\nenvironment may leak, overheat, rupture, or catch fire.\\nFor your safety\\n33\\n WARNING (Batteries)\\nKeep batteries out of reach of children.\\nShould a child swallow a battery, seek immediate medical attention.\\nKeep batteries out of reach of household pets and other animals.\\nThe batteries could leak, overheat, rupture, or catch fire if bitten, chewed,\\nor otherwise damaged by animals.\\nDo not immerse batteries in water or expose to rain.\\nFailure to observe this precaution could result in fire or product\\nmalfunction. Immediately dry the product with a towel or similar object\\nshould it become wet.\\nDiscontinue use immediately should you notice any changes in the\\nbatteries, such as discoloration or deformation. Cease charging EN-\\nEL25a/EN-EL25 rechargeable batteries if they do not charge in the\\nspecified period of time.\\nFailure to observe these precautions could result in the batteries leaking,\\noverheating, rupturing, or catching fire.\\nWhen batteries are no longer needed, insulate the terminals with\\ntape.\\nOverheating, rupture, or fire may result should metal objects come into\\ncontact with the terminals.\\nIf battery liquid comes into contact with a person’s skin or clothing,\\nimmediately rinse the affected area with plenty of clean water.']}\n",
      "INFO:     127.0.0.1:53499 - \"OPTIONS /query HTTP/1.1\" 405 Method Not Allowed\n",
      "INFO:     127.0.0.1:53683 - \"GET /docs HTTP/1.1\" 200 OK\n",
      "INFO:     127.0.0.1:53683 - \"GET /openapi.json HTTP/1.1\" 200 OK\n",
      "INFO:     127.0.0.1:53723 - \"POST /query HTTP/1.1\" 200 OK\n"
     ]
    }
   ],
   "source": [
    "import requests\n",
    "\n",
    "response = requests.post(\"http://localhost:8000/query\", json={\"query\": \"lenses\"})\n",
    "print(response.json())"
   ]
  },
  {
   "cell_type": "code",
   "execution_count": null,
   "id": "a471babe-b2f8-4e3d-aeac-03e076a6e112",
   "metadata": {},
   "outputs": [],
   "source": []
  }
 ],
 "metadata": {
  "kernelspec": {
   "display_name": "Python 3 (ipykernel)",
   "language": "python",
   "name": "python3"
  },
  "language_info": {
   "codemirror_mode": {
    "name": "ipython",
    "version": 3
   },
   "file_extension": ".py",
   "mimetype": "text/x-python",
   "name": "python",
   "nbconvert_exporter": "python",
   "pygments_lexer": "ipython3",
   "version": "3.12.0"
  }
 },
 "nbformat": 4,
 "nbformat_minor": 5
}
